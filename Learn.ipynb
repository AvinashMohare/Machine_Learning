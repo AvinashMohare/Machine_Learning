{
 "cells": [
  {
   "cell_type": "code",
   "execution_count": 17,
   "id": "d355edda",
   "metadata": {},
   "outputs": [],
   "source": [
    "lst = [5,8,38,2,5,25,612,61,45]"
   ]
  },
  {
   "cell_type": "code",
   "execution_count": 12,
   "id": "8a349b88",
   "metadata": {},
   "outputs": [],
   "source": [
    "def even_or_odd(num):\n",
    "    if num%2==0:\n",
    "        return \"The number {} is even\".format(num)\n",
    "    else:\n",
    "        return \"The number {} is odd\".format(num)"
   ]
  },
  {
   "cell_type": "code",
   "execution_count": 18,
   "id": "5ccfe721",
   "metadata": {},
   "outputs": [
    {
     "data": {
      "text/plain": [
       "['The number 5 is odd',\n",
       " 'The number 8 is even',\n",
       " 'The number 38 is even',\n",
       " 'The number 2 is even',\n",
       " 'The number 5 is odd',\n",
       " 'The number 25 is odd',\n",
       " 'The number 612 is even',\n",
       " 'The number 61 is odd',\n",
       " 'The number 45 is odd']"
      ]
     },
     "execution_count": 18,
     "metadata": {},
     "output_type": "execute_result"
    }
   ],
   "source": [
    "list(map(even_or_odd, lst))"
   ]
  },
  {
   "cell_type": "code",
   "execution_count": 2,
   "id": "cfe397d7",
   "metadata": {},
   "outputs": [],
   "source": [
    "def even(num):\n",
    "    if num%2 == 0:\n",
    "        return True"
   ]
  },
  {
   "cell_type": "code",
   "execution_count": 1,
   "id": "704d0067",
   "metadata": {},
   "outputs": [],
   "source": [
    "lst = [5,8,38,2,5,25,612,61,45]"
   ]
  },
  {
   "cell_type": "code",
   "execution_count": 3,
   "id": "4017186e",
   "metadata": {},
   "outputs": [
    {
     "data": {
      "text/plain": [
       "[8, 38, 2, 612]"
      ]
     },
     "execution_count": 3,
     "metadata": {},
     "output_type": "execute_result"
    }
   ],
   "source": [
    "list(filter(even, lst))"
   ]
  },
  {
   "cell_type": "code",
   "execution_count": 16,
   "id": "5d2792cf",
   "metadata": {},
   "outputs": [],
   "source": [
    "lst = [1,2,3,4,5,6,7,8,9]\n"
   ]
  },
  {
   "cell_type": "code",
   "execution_count": 17,
   "id": "2fcf7963",
   "metadata": {},
   "outputs": [],
   "source": [
    "lst1=[]\n",
    "\n",
    "def list_square(lst):\n",
    "    for i in lst:\n",
    "        lst1.append(i*i)"
   ]
  },
  {
   "cell_type": "code",
   "execution_count": 21,
   "id": "e32bf25e",
   "metadata": {},
   "outputs": [],
   "source": [
    "list_square(lst)"
   ]
  },
  {
   "cell_type": "code",
   "execution_count": 22,
   "id": "c95eeb16",
   "metadata": {},
   "outputs": [
    {
     "data": {
      "text/plain": [
       "[1,\n",
       " 4,\n",
       " 9,\n",
       " 16,\n",
       " 25,\n",
       " 36,\n",
       " 49,\n",
       " 64,\n",
       " 81,\n",
       " 1,\n",
       " 4,\n",
       " 9,\n",
       " 16,\n",
       " 25,\n",
       " 36,\n",
       " 49,\n",
       " 64,\n",
       " 81,\n",
       " 1,\n",
       " 4,\n",
       " 9,\n",
       " 16,\n",
       " 25,\n",
       " 36,\n",
       " 49,\n",
       " 64,\n",
       " 81]"
      ]
     },
     "execution_count": 22,
     "metadata": {},
     "output_type": "execute_result"
    }
   ],
   "source": [
    "lst1"
   ]
  },
  {
   "cell_type": "code",
   "execution_count": 23,
   "id": "03a747cb",
   "metadata": {},
   "outputs": [],
   "source": [
    "lst=[1,2,5,6]\n",
    "lst1 = [i*i for i in lst]"
   ]
  },
  {
   "cell_type": "code",
   "execution_count": 24,
   "id": "75c0796a",
   "metadata": {},
   "outputs": [
    {
     "data": {
      "text/plain": [
       "[1, 4, 25, 36]"
      ]
     },
     "execution_count": 24,
     "metadata": {},
     "output_type": "execute_result"
    }
   ],
   "source": [
    "lst1"
   ]
  },
  {
   "cell_type": "code",
   "execution_count": 26,
   "id": "31282656",
   "metadata": {},
   "outputs": [],
   "source": [
    "class Car:\n",
    "    def __init__(self, window, door, enginetype):\n",
    "        self.windows=window\n",
    "        self.doors=door\n",
    "        self.enginetype=enginetype\n",
    "        \n",
    "    def selfDriving(self):\n",
    "        return \"This is a {} car\".format(self.enginetype)"
   ]
  },
  {
   "cell_type": "code",
   "execution_count": 27,
   "id": "8b761151",
   "metadata": {},
   "outputs": [],
   "source": [
    "car1 = Car(4,4,\"p\")"
   ]
  },
  {
   "cell_type": "code",
   "execution_count": 29,
   "id": "8ef5e27a",
   "metadata": {},
   "outputs": [
    {
     "name": "stdout",
     "output_type": "stream",
     "text": [
      "4\n"
     ]
    }
   ],
   "source": [
    "print(car1.windows)"
   ]
  },
  {
   "cell_type": "code",
   "execution_count": 31,
   "id": "c84c403e",
   "metadata": {},
   "outputs": [
    {
     "data": {
      "text/plain": [
       "'This is a p car'"
      ]
     },
     "execution_count": 31,
     "metadata": {},
     "output_type": "execute_result"
    }
   ],
   "source": [
    "car1.selfDriving()"
   ]
  },
  {
   "cell_type": "code",
   "execution_count": 32,
   "id": "922ddb5b",
   "metadata": {},
   "outputs": [],
   "source": [
    "class Error(Exception):\n",
    "    pass\n",
    "\n",
    "class dobException(Error):\n",
    "    pass"
   ]
  },
  {
   "cell_type": "code",
   "execution_count": 37,
   "id": "15dbf867",
   "metadata": {},
   "outputs": [
    {
     "name": "stdout",
     "output_type": "stream",
     "text": [
      "Enter the year of Birth 2001\n",
      "invalid Age\n"
     ]
    }
   ],
   "source": [
    "year = int(input(\"Enter the year of Birth \"))\n",
    "age = 2022 - year \n",
    "try: \n",
    "    if age<=30 & age > 20 :\n",
    "        print(\"Valid Age\")\n",
    "        \n",
    "    else: \n",
    "        raise dobException\n",
    "\n",
    "except dobException :\n",
    "    print(\"invalid Age\")\n",
    "        \n",
    "    "
   ]
  },
  {
   "cell_type": "code",
   "execution_count": null,
   "id": "fd88b40b",
   "metadata": {},
   "outputs": [],
   "source": []
  },
  {
   "cell_type": "code",
   "execution_count": null,
   "id": "98c40e8c",
   "metadata": {},
   "outputs": [],
   "source": []
  },
  {
   "cell_type": "code",
   "execution_count": null,
   "id": "bfee14ba",
   "metadata": {},
   "outputs": [],
   "source": []
  },
  {
   "cell_type": "code",
   "execution_count": null,
   "id": "33ebd9a7",
   "metadata": {},
   "outputs": [],
   "source": []
  },
  {
   "cell_type": "code",
   "execution_count": null,
   "id": "26d41c6b",
   "metadata": {},
   "outputs": [],
   "source": []
  },
  {
   "cell_type": "code",
   "execution_count": null,
   "id": "708f4591",
   "metadata": {},
   "outputs": [],
   "source": []
  },
  {
   "cell_type": "code",
   "execution_count": null,
   "id": "609bba9a",
   "metadata": {},
   "outputs": [],
   "source": []
  },
  {
   "cell_type": "code",
   "execution_count": null,
   "id": "243a52b6",
   "metadata": {},
   "outputs": [],
   "source": []
  },
  {
   "cell_type": "code",
   "execution_count": null,
   "id": "9334fd55",
   "metadata": {},
   "outputs": [],
   "source": []
  },
  {
   "cell_type": "code",
   "execution_count": null,
   "id": "b08b6496",
   "metadata": {},
   "outputs": [],
   "source": []
  },
  {
   "cell_type": "code",
   "execution_count": null,
   "id": "75ca758f",
   "metadata": {},
   "outputs": [],
   "source": []
  },
  {
   "cell_type": "code",
   "execution_count": null,
   "id": "49d83da5",
   "metadata": {},
   "outputs": [],
   "source": []
  },
  {
   "cell_type": "code",
   "execution_count": null,
   "id": "783a41b8",
   "metadata": {},
   "outputs": [],
   "source": []
  },
  {
   "cell_type": "code",
   "execution_count": null,
   "id": "380a2de1",
   "metadata": {},
   "outputs": [],
   "source": []
  },
  {
   "cell_type": "code",
   "execution_count": null,
   "id": "2b9eac22",
   "metadata": {},
   "outputs": [],
   "source": []
  },
  {
   "cell_type": "code",
   "execution_count": null,
   "id": "7ffa2c05",
   "metadata": {},
   "outputs": [],
   "source": []
  },
  {
   "cell_type": "code",
   "execution_count": null,
   "id": "398d2952",
   "metadata": {},
   "outputs": [],
   "source": []
  },
  {
   "cell_type": "code",
   "execution_count": null,
   "id": "c33e0732",
   "metadata": {},
   "outputs": [],
   "source": []
  },
  {
   "cell_type": "code",
   "execution_count": null,
   "id": "7af9ca5b",
   "metadata": {},
   "outputs": [],
   "source": []
  },
  {
   "cell_type": "code",
   "execution_count": null,
   "id": "3fc8183d",
   "metadata": {},
   "outputs": [],
   "source": []
  },
  {
   "cell_type": "code",
   "execution_count": null,
   "id": "f786f785",
   "metadata": {},
   "outputs": [],
   "source": []
  },
  {
   "cell_type": "code",
   "execution_count": null,
   "id": "210c2e58",
   "metadata": {},
   "outputs": [],
   "source": []
  },
  {
   "cell_type": "code",
   "execution_count": null,
   "id": "a7415195",
   "metadata": {},
   "outputs": [],
   "source": []
  },
  {
   "cell_type": "code",
   "execution_count": null,
   "id": "d7cc1c0d",
   "metadata": {},
   "outputs": [],
   "source": []
  },
  {
   "cell_type": "code",
   "execution_count": null,
   "id": "3fe7d28b",
   "metadata": {},
   "outputs": [],
   "source": []
  },
  {
   "cell_type": "code",
   "execution_count": null,
   "id": "e0da2547",
   "metadata": {},
   "outputs": [],
   "source": []
  },
  {
   "cell_type": "code",
   "execution_count": null,
   "id": "4af9c620",
   "metadata": {},
   "outputs": [],
   "source": []
  },
  {
   "cell_type": "code",
   "execution_count": null,
   "id": "dd4fce5c",
   "metadata": {},
   "outputs": [],
   "source": []
  },
  {
   "cell_type": "code",
   "execution_count": null,
   "id": "0f02fe81",
   "metadata": {},
   "outputs": [],
   "source": []
  },
  {
   "cell_type": "code",
   "execution_count": null,
   "id": "d93e841b",
   "metadata": {},
   "outputs": [],
   "source": []
  },
  {
   "cell_type": "code",
   "execution_count": null,
   "id": "a3b42037",
   "metadata": {},
   "outputs": [],
   "source": []
  },
  {
   "cell_type": "code",
   "execution_count": null,
   "id": "e68aa80c",
   "metadata": {},
   "outputs": [],
   "source": []
  },
  {
   "cell_type": "code",
   "execution_count": null,
   "id": "0e085950",
   "metadata": {},
   "outputs": [],
   "source": []
  }
 ],
 "metadata": {
  "kernelspec": {
   "display_name": "Python 3",
   "language": "python",
   "name": "python3"
  },
  "language_info": {
   "codemirror_mode": {
    "name": "ipython",
    "version": 3
   },
   "file_extension": ".py",
   "mimetype": "text/x-python",
   "name": "python",
   "nbconvert_exporter": "python",
   "pygments_lexer": "ipython3",
   "version": "3.8.8"
  }
 },
 "nbformat": 4,
 "nbformat_minor": 5
}
